{
 "cells": [
  {
   "cell_type": "code",
   "execution_count": 21,
   "metadata": {},
   "outputs": [],
   "source": [
    "import numpy as np\n",
    "import time\n",
    "import cv2\n",
    "import pytesseract"
   ]
  },
  {
   "cell_type": "code",
   "execution_count": 22,
   "metadata": {},
   "outputs": [],
   "source": [
    "def label_detection(image_path):\n",
    "    labels ='./model/synset_words.txt'\n",
    "    prototxt = './model/bvlc_googlenet.prototxt'\n",
    "    model = './model/bvlc_googlenet.caffemodel'\n",
    "    \n",
    "    # load the input image from disk\n",
    "    image = cv2.imread(image_path)\n",
    "    \n",
    "    # load the class labels from disk\n",
    "    rows = open(labels).read().strip().split(\"\\n\")\n",
    "    classes = [r[r.find(\" \") + 1:].split(\",\")[0] for r in rows]\n",
    "    \n",
    "    # our CNN requires fixed spatial dimensions for our input image(s)\n",
    "    # so we need to ensure it is resized to 224x224 pixels while\n",
    "    # performing mean subtraction (104, 117, 123) to normalize the input\n",
    "    # after executing this command our \"blob\" now has the shape:\n",
    "    # (1, 3, 224, 224)\n",
    "    blob = cv2.dnn.blobFromImage(image, 1, (224, 224), (104, 117, 123))\n",
    "    \n",
    "    # load our serialized model from disk\n",
    "    net = cv2.dnn.readNetFromCaffe(prototxt, model)\n",
    "    \n",
    "    # set the blob as input to the network and perform a forward-pass to\n",
    "    # obtain our output classification\n",
    "    net.setInput(blob)\n",
    "    start = time.time()\n",
    "    preds = net.forward()\n",
    "    end = time.time()\n",
    "    \n",
    "    # sort the indexes of the probabilities in descending order (higher\n",
    "    # probabilitiy first) and grab the top-5 predictions\n",
    "    idxs = np.argsort(preds[0])[::-1][:5]\n",
    "\n",
    "    # loop over the top-5 predictions and display them\n",
    "    output_labels =  []\n",
    "    for (i, idx) in enumerate(idxs):\n",
    "        # display the predicted label\n",
    "        output_labels.append(classes[idx])\n",
    "        \n",
    "    return output_labels"
   ]
  },
  {
   "cell_type": "code",
   "execution_count": 23,
   "metadata": {},
   "outputs": [
    {
     "data": {
      "text/plain": [
       "['jersey', 'electric guitar', 'theater curtain', 'book jacket', 'stage']"
      ]
     },
     "execution_count": 23,
     "metadata": {},
     "output_type": "execute_result"
    }
   ],
   "source": [
    "label_detection('/Users/ashivalagar/Desktop/NTUOSS-MemeItWorkshop/github_images/workshop-logo.jpeg')"
   ]
  },
  {
   "cell_type": "code",
   "execution_count": 24,
   "metadata": {},
   "outputs": [],
   "source": [
    "def character_extractor(image_path):\n",
    "    \n",
    "    #loading image from disk\n",
    "    image = cv2.imread(image_path)\n",
    "    \n",
    "    #using pytesseract to run optical character recognition\n",
    "    text = pytesseract.image_to_string(image)\n",
    "    \n",
    "    return text"
   ]
  },
  {
   "cell_type": "code",
   "execution_count": 25,
   "metadata": {},
   "outputs": [
    {
     "data": {
      "text/plain": [
       "'When your\\nboss asks for\\nproof you’re\\n\\nin hospital'"
      ]
     },
     "execution_count": 25,
     "metadata": {},
     "output_type": "execute_result"
    }
   ],
   "source": [
    "character_extractor('/Users/ashivalagar/Desktop/NTUOSS-MemeItWorkshop/Image_Detection/memetest.jpg')"
   ]
  },
  {
   "cell_type": "code",
   "execution_count": null,
   "metadata": {},
   "outputs": [],
   "source": []
  }
 ],
 "metadata": {
  "kernelspec": {
   "display_name": "Python 3",
   "language": "python",
   "name": "python3"
  },
  "language_info": {
   "codemirror_mode": {
    "name": "ipython",
    "version": 3
   },
   "file_extension": ".py",
   "mimetype": "text/x-python",
   "name": "python",
   "nbconvert_exporter": "python",
   "pygments_lexer": "ipython3",
   "version": "3.6.8"
  }
 },
 "nbformat": 4,
 "nbformat_minor": 2
}
