{
 "cells": [
  {
   "cell_type": "code",
   "execution_count": 1,
   "metadata": {},
   "outputs": [],
   "source": [
    "from PIL import ImageFont,Image,ImageDraw\n",
    "from math import ceil"
   ]
  },
  {
   "cell_type": "code",
   "execution_count": 2,
   "metadata": {},
   "outputs": [],
   "source": [
    "def char_per_line(imgWidth, padding,fontSize):\n",
    "    char_num = ceil(((0.9*imgWidth-(2*padding))/fontSize))\n",
    "    return char_num"
   ]
  },
  {
   "cell_type": "code",
   "execution_count": 3,
   "metadata": {},
   "outputs": [],
   "source": [
    "def add_newline_char(caption,line_size):\n",
    "    temp = caption.split(' ')\n",
    "    counter = 0\n",
    "    output = ''\n",
    "    for i in temp:\n",
    "        counter+=len(i)\n",
    "        if(counter>line_size):\n",
    "            output+=i+'\\n'\n",
    "            counter = 0\n",
    "        else:\n",
    "            output+=i+' '\n",
    "    return output"
   ]
  },
  {
   "cell_type": "code",
   "execution_count": 4,
   "metadata": {},
   "outputs": [],
   "source": [
    "def make_meme(string,filename,isWhite=True, optional=1):\n",
    "    img =  Image.open(filename)\n",
    "    draw = ImageDraw.Draw(img)\n",
    "    \n",
    "    imageSize = img.size\n",
    "    fontRatio = 0.05\n",
    "    paddingRatio = 0.05\n",
    "    \n",
    "    fontSize = int(imageSize[1]*fontRatio)\n",
    "    \n",
    "    font = ImageFont.truetype(\"/Library/Fonts/Impact.ttf\", fontSize)\n",
    "    padding = ceil(paddingRatio*imageSize[0])\n",
    "    char_num = char_per_line(imageSize[0], padding, fontSize)\n",
    "    \n",
    "    string = add_newline_char(string,char_num)\n",
    "    pos = tuple(map(lambda x: x*paddingRatio,imageSize))\n",
    "    \n",
    "    if(isWhite):\n",
    "        colour=(255,255,255,255)\n",
    "    else:\n",
    "        colour=(0,0,0,255)\n",
    "    \n",
    "    draw.text(pos,string, font=font, fill=colour)\n",
    "    img.save(\"Completed/output\"+str(optional)+\".png\")"
   ]
  },
  {
   "cell_type": "code",
   "execution_count": 5,
   "metadata": {},
   "outputs": [],
   "source": [
    "make_meme('Writing over light background','test/white.jpg',False,1)"
   ]
  },
  {
   "cell_type": "code",
   "execution_count": 6,
   "metadata": {},
   "outputs": [],
   "source": [
    "make_meme('Writing over dark background','test/black.jpg',True,2)"
   ]
  },
  {
   "cell_type": "code",
   "execution_count": 7,
   "metadata": {},
   "outputs": [],
   "source": [
    "make_meme('When you say you\\'ll think about it, but know the answer is no','test/meme.jpeg',True,3)"
   ]
  },
  {
   "cell_type": "code",
   "execution_count": null,
   "metadata": {},
   "outputs": [],
   "source": []
  }
 ],
 "metadata": {
  "kernelspec": {
   "display_name": "Python 3",
   "language": "python",
   "name": "python3"
  },
  "language_info": {
   "codemirror_mode": {
    "name": "ipython",
    "version": 3
   },
   "file_extension": ".py",
   "mimetype": "text/x-python",
   "name": "python",
   "nbconvert_exporter": "python",
   "pygments_lexer": "ipython3",
   "version": "3.7.4"
  }
 },
 "nbformat": 4,
 "nbformat_minor": 2
}
